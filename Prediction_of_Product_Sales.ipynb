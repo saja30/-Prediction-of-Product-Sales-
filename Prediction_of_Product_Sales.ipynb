{
  "nbformat": 4,
  "nbformat_minor": 0,
  "metadata": {
    "colab": {
      "provenance": [],
      "authorship_tag": "ABX9TyMCEC7Scp61PRfC5kzidFxb",
      "include_colab_link": true
    },
    "kernelspec": {
      "name": "python3",
      "display_name": "Python 3"
    },
    "language_info": {
      "name": "python"
    }
  },
  "cells": [
    {
      "cell_type": "markdown",
      "metadata": {
        "id": "view-in-github",
        "colab_type": "text"
      },
      "source": [
        "<a href=\"https://colab.research.google.com/github/saja30/-Prediction-of-Product-Sales-/blob/main/Prediction_of_Product_Sales.ipynb\" target=\"_parent\"><img src=\"https://colab.research.google.com/assets/colab-badge.svg\" alt=\"Open In Colab\"/></a>"
      ]
    },
    {
      "cell_type": "markdown",
      "source": [
        "# Prediction of Product Sales"
      ],
      "metadata": {
        "id": "wh9S5mIMS0kL"
      }
    },
    {
      "cell_type": "markdown",
      "source": [
        "- Author: saja ali"
      ],
      "metadata": {
        "id": "u1bERyLCS2_x"
      }
    },
    {
      "cell_type": "markdown",
      "source": [
        "## Project Overview"
      ],
      "metadata": {
        "id": "P9y-VEC5S7hY"
      }
    },
    {
      "cell_type": "code",
      "source": [],
      "metadata": {
        "id": "f6UcTV48Tl6I"
      },
      "execution_count": null,
      "outputs": []
    },
    {
      "cell_type": "markdown",
      "source": [
        "## Load and Inspect Data"
      ],
      "metadata": {
        "id": "aWBaDT9zTHzx"
      }
    },
    {
      "cell_type": "code",
      "source": [],
      "metadata": {
        "id": "569-KQ_BTmuq"
      },
      "execution_count": null,
      "outputs": []
    },
    {
      "cell_type": "markdown",
      "source": [
        "## Clean Data"
      ],
      "metadata": {
        "id": "wv8ZqCXzTKio"
      }
    },
    {
      "cell_type": "code",
      "source": [],
      "metadata": {
        "id": "y6te3ULvTnhi"
      },
      "execution_count": null,
      "outputs": []
    },
    {
      "cell_type": "markdown",
      "source": [
        "## Exploratory Data Analysis"
      ],
      "metadata": {
        "id": "e9ciKE8FTQ2J"
      }
    },
    {
      "cell_type": "code",
      "source": [],
      "metadata": {
        "id": "u7uDmo58ToUZ"
      },
      "execution_count": null,
      "outputs": []
    },
    {
      "cell_type": "markdown",
      "source": [
        "## Feature Inspection"
      ],
      "metadata": {
        "id": "qiLl1md-TWfM"
      }
    },
    {
      "cell_type": "code",
      "source": [],
      "metadata": {
        "id": "wov9aC5nTo-q"
      },
      "execution_count": null,
      "outputs": []
    }
  ]
}